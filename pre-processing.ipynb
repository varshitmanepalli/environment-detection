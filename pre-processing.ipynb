{
  "nbformat": 4,
  "nbformat_minor": 0,
  "metadata": {
    "colab": {
      "provenance": [],
      "gpuType": "T4"
    },
    "kernelspec": {
      "name": "python3",
      "display_name": "Python 3"
    },
    "language_info": {
      "name": "python"
    },
    "accelerator": "GPU"
  },
  "cells": [
    {
      "cell_type": "code",
      "source": [
        "from google.colab import drive\n",
        "drive.mount('/content/drive')"
      ],
      "metadata": {
        "id": "1l5NPCEHAouv"
      },
      "execution_count": null,
      "outputs": []
    },
    {
      "cell_type": "code",
      "execution_count": null,
      "metadata": {
        "id": "zr4l9vnPABKj"
      },
      "outputs": [],
      "source": [
        "import os\n",
        "import shutil\n",
        "import random\n",
        "from collections import Counter\n",
        "from pathlib import Path\n",
        "from PIL import Image\n",
        "import imgaug.augmenters as iaa\n",
        "\n",
        "# Define paths\n",
        "dataset_path = \"path_to_your_dataset\"  # Replace with the actual dataset path\n",
        "balanced_dataset_path = \"balanced_dataset\"\n",
        "\n",
        "# Create new directory for balanced dataset\n",
        "os.makedirs(balanced_dataset_path, exist_ok=True)\n",
        "\n",
        "# Count images in each class\n",
        "class_counts = {cls: len(os.listdir(os.path.join(dataset_path, cls))) for cls in os.listdir(dataset_path) if os.path.isdir(os.path.join(dataset_path, cls))}\n",
        "min_samples = min(class_counts.values())  # Determine minimum class count to balance dataset\n",
        "\n",
        "# Augmentation function (optional)\n",
        "augmenter = iaa.Sequential([\n",
        "    iaa.Fliplr(0.5),  # Flip 50% images horizontally\n",
        "    iaa.Affine(rotate=(-20, 20)),  # Rotate images randomly\n",
        "])\n",
        "\n",
        "def augment_image(image_path, output_path):\n",
        "    image = Image.open(image_path)\n",
        "    image = image.convert(\"RGB\")  # Ensure consistency\n",
        "    augmented_image = augmenter(image=np.array(image))\n",
        "    Image.fromarray(augmented_image).save(output_path)\n",
        "\n",
        "# Balancing dataset\n",
        "for cls, count in class_counts.items():\n",
        "    class_dir = os.path.join(dataset_path, cls)\n",
        "    new_class_dir = os.path.join(balanced_dataset_path, cls)\n",
        "    os.makedirs(new_class_dir, exist_ok=True)\n",
        "\n",
        "    images = os.listdir(class_dir)\n",
        "\n",
        "    if count > min_samples:  # Downsampling\n",
        "        selected_images = random.sample(images, min_samples)\n",
        "    else:  # Upsampling\n",
        "        selected_images = images.copy()\n",
        "        while len(selected_images) < min_samples:\n",
        "            img_to_augment = random.choice(images)\n",
        "            new_img_name = f\"aug_{len(selected_images)}.jpg\"\n",
        "            augment_image(os.path.join(class_dir, img_to_augment), os.path.join(new_class_dir, new_img_name))\n",
        "            selected_images.append(new_img_name)\n",
        "\n",
        "    # Copy selected images to new dataset\n",
        "    for img in selected_images:\n",
        "        src = os.path.join(class_dir, img)\n",
        "        dst = os.path.join(new_class_dir, img)\n",
        "        shutil.copy(src, dst)\n",
        "\n",
        "print(\"Dataset balancing complete. Balanced dataset saved at:\", balanced_dataset_path)\n"
      ]
    }
  ]
}